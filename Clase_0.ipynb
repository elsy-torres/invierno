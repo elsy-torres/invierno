{
  "nbformat": 4,
  "nbformat_minor": 0,
  "metadata": {
    "colab": {
      "name": "Clase_0.ipynb",
      "provenance": [],
      "collapsed_sections": [],
      "toc_visible": true,
      "authorship_tag": "ABX9TyOU/hcj53s2MbLRndgI2QrQ",
      "include_colab_link": true
    },
    "kernelspec": {
      "name": "python3",
      "display_name": "Python 3"
    }
  },
  "cells": [
    {
      "cell_type": "markdown",
      "metadata": {
        "id": "view-in-github",
        "colab_type": "text"
      },
      "source": [
        "<a href=\"https://colab.research.google.com/github/elsy-torres/invierno/blob/main/Clase_0.ipynb\" target=\"_parent\"><img src=\"https://colab.research.google.com/assets/colab-badge.svg\" alt=\"Open In Colab\"/></a>"
      ]
    },
    {
      "cell_type": "code",
      "metadata": {
        "id": "-KwOL-054l7-"
      },
      "source": [
        "import numpy as np\n",
        "import matplotlib.pyplot as plt\n",
        "import pandas as pd"
      ],
      "execution_count": 2,
      "outputs": []
    },
    {
      "cell_type": "code",
      "metadata": {
        "id": "aKU3tz5fAjaH"
      },
      "source": [
        "!pip install obspy==1.2.2"
      ],
      "execution_count": null,
      "outputs": []
    },
    {
      "cell_type": "code",
      "metadata": {
        "id": "1NxCh6KhA3XV"
      },
      "source": [
        "!pip search obspy"
      ],
      "execution_count": null,
      "outputs": []
    },
    {
      "cell_type": "code",
      "metadata": {
        "colab": {
          "base_uri": "https://localhost:8080/"
        },
        "id": "hI3npJVs4ygv",
        "outputId": "d17ed09f-4d5b-47ad-eda0-db5777e3edda"
      },
      "source": [
        "np.random.normal(size=(5,5))"
      ],
      "execution_count": 7,
      "outputs": [
        {
          "output_type": "execute_result",
          "data": {
            "text/plain": [
              "array([[ 0.34493458,  1.51307288,  1.32641515, -0.66664106, -1.17251189],\n",
              "       [-1.44766128, -0.0294434 , -0.16731348, -1.44461422, -0.87788117],\n",
              "       [-0.15344241,  0.53521457, -0.29713459,  0.42701594, -1.55837953],\n",
              "       [-0.14090347, -0.43435812, -0.69835091, -0.76405376, -0.81321043],\n",
              "       [-1.62959221,  2.60363007,  0.28322117, -0.34247835, -0.39477744]])"
            ]
          },
          "metadata": {
            "tags": []
          },
          "execution_count": 7
        }
      ]
    },
    {
      "cell_type": "code",
      "metadata": {
        "colab": {
          "base_uri": "https://localhost:8080/"
        },
        "id": "hpXb93EKDKI2",
        "outputId": "5b782d3a-fc3e-4ed3-f942-5211fc8870ba"
      },
      "source": [
        "w=np.random.normal(size=(2,2))\n",
        "print(w)\n",
        "w2= np.random.randint(1,10,size=(2,1))\n",
        "print(w2)"
      ],
      "execution_count": 62,
      "outputs": [
        {
          "output_type": "stream",
          "text": [
            "[[-0.19714637 -1.29849372]\n",
            " [-1.79487783 -1.15102616]]\n",
            "[[9]\n",
            " [1]]\n"
          ],
          "name": "stdout"
        }
      ]
    },
    {
      "cell_type": "code",
      "metadata": {
        "colab": {
          "base_uri": "https://localhost:8080/"
        },
        "id": "vcuipq_KGBBr",
        "outputId": "5dbf9a10-17be-419d-fa73-26d8e15fb359"
      },
      "source": [
        "w*w2\n"
      ],
      "execution_count": 67,
      "outputs": [
        {
          "output_type": "execute_result",
          "data": {
            "text/plain": [
              "array([[ -1.7743173 , -11.68644352],\n",
              "       [ -1.79487783,  -1.15102616]])"
            ]
          },
          "metadata": {
            "tags": []
          },
          "execution_count": 67
        }
      ]
    },
    {
      "cell_type": "code",
      "metadata": {
        "colab": {
          "base_uri": "https://localhost:8080/"
        },
        "id": "f2Jb_Qc4ESXj",
        "outputId": "684b376e-6ac0-4c8f-c308-83b4b9fe0d6b"
      },
      "source": [
        "w.dot(w2).T"
      ],
      "execution_count": 66,
      "outputs": [
        {
          "output_type": "execute_result",
          "data": {
            "text/plain": [
              "array([[ -3.07281102, -17.30492667]])"
            ]
          },
          "metadata": {
            "tags": []
          },
          "execution_count": 66
        }
      ]
    },
    {
      "cell_type": "code",
      "metadata": {
        "colab": {
          "base_uri": "https://localhost:8080/"
        },
        "id": "WRT4UYGZGl7K",
        "outputId": "97fc0a8b-0353-4348-fcbc-ec897c6750e1"
      },
      "source": [
        "x=np.arange(0,5)\n",
        "print(x)"
      ],
      "execution_count": 76,
      "outputs": [
        {
          "output_type": "stream",
          "text": [
            "[0 1 2 3 4]\n"
          ],
          "name": "stdout"
        }
      ]
    },
    {
      "cell_type": "code",
      "metadata": {
        "id": "v2nRaEShGEpm"
      },
      "source": [
        "y=np.sin(x)"
      ],
      "execution_count": 77,
      "outputs": []
    },
    {
      "cell_type": "code",
      "metadata": {
        "colab": {
          "base_uri": "https://localhost:8080/"
        },
        "id": "jE6jZJSgGf-N",
        "outputId": "475daa7a-a76d-4f5d-bc98-8adce905dbb8"
      },
      "source": [
        "for index,val in enumerate(y):\n",
        "  print('iteracion {}:valor {}'.format(index, val))"
      ],
      "execution_count": 85,
      "outputs": [
        {
          "output_type": "stream",
          "text": [
            "iteracion 0:valor 0.0\n",
            "iteracion 1:valor 0.8414709848078965\n",
            "iteracion 2:valor 0.9092974268256817\n",
            "iteracion 3:valor 0.1411200080598672\n",
            "iteracion 4:valor -0.7568024953079282\n"
          ],
          "name": "stdout"
        }
      ]
    },
    {
      "cell_type": "code",
      "metadata": {
        "id": "7s_WoLt9GgD2"
      },
      "source": [
        ""
      ],
      "execution_count": null,
      "outputs": []
    },
    {
      "cell_type": "code",
      "metadata": {
        "id": "iCCDgGFhGgHk"
      },
      "source": [
        ""
      ],
      "execution_count": null,
      "outputs": []
    },
    {
      "cell_type": "code",
      "metadata": {
        "id": "xyEUHeWUGgNs"
      },
      "source": [
        ""
      ],
      "execution_count": null,
      "outputs": []
    },
    {
      "cell_type": "code",
      "metadata": {
        "id": "eRPk7t-7GgVy"
      },
      "source": [
        ""
      ],
      "execution_count": null,
      "outputs": []
    },
    {
      "cell_type": "code",
      "metadata": {
        "id": "X9RO5pClGgLV"
      },
      "source": [
        ""
      ],
      "execution_count": null,
      "outputs": []
    },
    {
      "cell_type": "code",
      "metadata": {
        "id": "9wCKO7U9GgCF"
      },
      "source": [
        ""
      ],
      "execution_count": null,
      "outputs": []
    },
    {
      "cell_type": "markdown",
      "metadata": {
        "id": "xAZRfCgG6OSj"
      },
      "source": [
        "## Estructuras"
      ]
    },
    {
      "cell_type": "code",
      "metadata": {
        "id": "sHMLRGE56TFq"
      },
      "source": [
        "tupla=(2,1,4)"
      ],
      "execution_count": 16,
      "outputs": []
    },
    {
      "cell_type": "code",
      "metadata": {
        "colab": {
          "base_uri": "https://localhost:8080/"
        },
        "id": "pOFGVDvR6X79",
        "outputId": "c6057619-420d-4ccb-b916-f4084baa67e8"
      },
      "source": [
        "print(tupla)"
      ],
      "execution_count": 17,
      "outputs": [
        {
          "output_type": "stream",
          "text": [
            "(2, 1, 4)\n"
          ],
          "name": "stdout"
        }
      ]
    },
    {
      "cell_type": "code",
      "metadata": {
        "colab": {
          "base_uri": "https://localhost:8080/"
        },
        "id": "vrK2ym-p6fkp",
        "outputId": "1d2a1421-8a05-4b65-9ea8-7cc422ec0746"
      },
      "source": [
        "tupla.count(2)"
      ],
      "execution_count": 19,
      "outputs": [
        {
          "output_type": "execute_result",
          "data": {
            "text/plain": [
              "1"
            ]
          },
          "metadata": {
            "tags": []
          },
          "execution_count": 19
        }
      ]
    },
    {
      "cell_type": "code",
      "metadata": {
        "colab": {
          "base_uri": "https://localhost:8080/"
        },
        "id": "NFrs8EoB6_Gy",
        "outputId": "ff626741-dab8-45b5-df3c-63b697f19cfe"
      },
      "source": [
        "lista=[1,2,3,5,]\n",
        "print(lista)"
      ],
      "execution_count": 35,
      "outputs": [
        {
          "output_type": "stream",
          "text": [
            "[1, 2, 3, 5]\n"
          ],
          "name": "stdout"
        }
      ]
    },
    {
      "cell_type": "code",
      "metadata": {
        "colab": {
          "base_uri": "https://localhost:8080/"
        },
        "id": "CgrcGsCi8DpO",
        "outputId": "8d34af55-525f-4ccd-a06d-6cb0b2ccd48c"
      },
      "source": [
        "lista.append('torres')\n",
        "print(lista)"
      ],
      "execution_count": 36,
      "outputs": [
        {
          "output_type": "stream",
          "text": [
            "[1, 2, 3, 5, 'torres']\n"
          ],
          "name": "stdout"
        }
      ]
    },
    {
      "cell_type": "code",
      "metadata": {
        "colab": {
          "base_uri": "https://localhost:8080/"
        },
        "id": "6JAvYNoa8a3q",
        "outputId": "648d6d9f-d9ba-4193-9098-787a0901add1"
      },
      "source": [
        "lista.index(2)"
      ],
      "execution_count": 33,
      "outputs": [
        {
          "output_type": "execute_result",
          "data": {
            "text/plain": [
              "1"
            ]
          },
          "metadata": {
            "tags": []
          },
          "execution_count": 33
        }
      ]
    },
    {
      "cell_type": "code",
      "metadata": {
        "colab": {
          "base_uri": "https://localhost:8080/"
        },
        "id": "71XpEJT78vpG",
        "outputId": "9f4b5d46-b94a-474a-bf84-fd9b1b3fd16d"
      },
      "source": [
        "lista.insert(3,4)\n",
        "print(lista)"
      ],
      "execution_count": 37,
      "outputs": [
        {
          "output_type": "stream",
          "text": [
            "[1, 2, 3, 4, 5, 'torres']\n"
          ],
          "name": "stdout"
        }
      ]
    },
    {
      "cell_type": "code",
      "metadata": {
        "id": "q8zu2TJ39Rw1"
      },
      "source": [
        "diccionario={\n",
        "    'nombre':'elsy',\n",
        "    'apellido':'torres',\n",
        "}"
      ],
      "execution_count": 38,
      "outputs": []
    },
    {
      "cell_type": "code",
      "metadata": {
        "colab": {
          "base_uri": "https://localhost:8080/",
          "height": 35
        },
        "id": "Hgdpvrt89mFf",
        "outputId": "23c12c04-0a69-42d4-f4b7-65d7bf28180d"
      },
      "source": [
        "diccionario['nombre']"
      ],
      "execution_count": 39,
      "outputs": [
        {
          "output_type": "execute_result",
          "data": {
            "application/vnd.google.colaboratory.intrinsic+json": {
              "type": "string"
            },
            "text/plain": [
              "'elsy'"
            ]
          },
          "metadata": {
            "tags": []
          },
          "execution_count": 39
        }
      ]
    },
    {
      "cell_type": "code",
      "metadata": {
        "colab": {
          "base_uri": "https://localhost:8080/"
        },
        "id": "wd1xSr3X-K_E",
        "outputId": "5117a131-58da-479a-a81b-75ee6343fe68"
      },
      "source": [
        "for key,item in diccionario.items():\n",
        "  print(key+':'+ item)"
      ],
      "execution_count": 42,
      "outputs": [
        {
          "output_type": "stream",
          "text": [
            "nombre:elsy\n",
            "apellido:torres\n"
          ],
          "name": "stdout"
        }
      ]
    },
    {
      "cell_type": "code",
      "metadata": {
        "id": "hai8WZ6V_Xr9"
      },
      "source": [
        "diccionario['cuatrimestre']='aprobado'"
      ],
      "execution_count": 45,
      "outputs": []
    },
    {
      "cell_type": "code",
      "metadata": {
        "colab": {
          "base_uri": "https://localhost:8080/"
        },
        "id": "X-J5KZIM_hA3",
        "outputId": "55568512-788f-4a4f-8734-8a388a5343be"
      },
      "source": [
        "print(diccionario)"
      ],
      "execution_count": 46,
      "outputs": [
        {
          "output_type": "stream",
          "text": [
            "{'nombre': 'elsy', 'apellido': 'torres', 'semestre': 'aprobado', 'cuatrimestre': 'aprobado'}\n"
          ],
          "name": "stdout"
        }
      ]
    },
    {
      "cell_type": "code",
      "metadata": {
        "colab": {
          "base_uri": "https://localhost:8080/"
        },
        "id": "k_hS8UFJ_zLC",
        "outputId": "6dbfe975-87ee-42ab-8053-45cf8527fe0e"
      },
      "source": [
        "diccionario.keys()"
      ],
      "execution_count": 48,
      "outputs": [
        {
          "output_type": "execute_result",
          "data": {
            "text/plain": [
              "dict_keys(['nombre', 'apellido', 'semestre', 'cuatrimestre'])"
            ]
          },
          "metadata": {
            "tags": []
          },
          "execution_count": 48
        }
      ]
    },
    {
      "cell_type": "code",
      "metadata": {
        "id": "bVxPLnAIASpP"
      },
      "source": [
        "from obspy import read"
      ],
      "execution_count": 52,
      "outputs": []
    },
    {
      "cell_type": "markdown",
      "metadata": {
        "id": "NrQOlVwQ_Nu2"
      },
      "source": [
        "str(dato númerico)"
      ]
    },
    {
      "cell_type": "code",
      "metadata": {
        "colab": {
          "base_uri": "https://localhost:8080/"
        },
        "id": "0ErkZvsW-yJW",
        "outputId": "5395ae12-d1dd-4604-f137-f7ff1c58f68a"
      },
      "source": [
        "diccionario.items()"
      ],
      "execution_count": 41,
      "outputs": [
        {
          "output_type": "execute_result",
          "data": {
            "text/plain": [
              "dict_items([('nombre', 'elsy'), ('apellido', 'torres')])"
            ]
          },
          "metadata": {
            "tags": []
          },
          "execution_count": 41
        }
      ]
    },
    {
      "cell_type": "code",
      "metadata": {
        "id": "F5AtpyIjBZhJ"
      },
      "source": [
        "st = read('CBX0613E.PIT')"
      ],
      "execution_count": null,
      "outputs": []
    },
    {
      "cell_type": "code",
      "metadata": {
        "id": "Tr4k68x9C-BR"
      },
      "source": [
        ""
      ],
      "execution_count": null,
      "outputs": []
    }
  ]
}